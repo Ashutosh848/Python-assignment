{
 "cells": [
  {
   "cell_type": "code",
   "execution_count": 38,
   "id": "c1446762-9282-40f0-bfcf-5975a6059228",
   "metadata": {},
   "outputs": [
    {
     "name": "stdout",
     "output_type": "stream",
     "text": [
      "adjadakdjakdakdkadj\n"
     ]
    }
   ],
   "source": [
    "a = ['asjdjdad','asjdajdh','adjahdjaadkad','adjadakdjakdakdkadj','adjajd']\n",
    "max = 0\n",
    "for i in a:\n",
    "    if(len(i)>max):\n",
    "        max = len(i)\n",
    "        m = i\n",
    "print(m)"
   ]
  },
  {
   "cell_type": "code",
   "execution_count": 33,
   "id": "dece4c21-9ade-4b45-a7dc-6ce8eaff99b2",
   "metadata": {},
   "outputs": [
    {
     "name": "stdout",
     "output_type": "stream",
     "text": [
      "0\n"
     ]
    }
   ],
   "source": [
    "a = ''\n",
    "\n",
    "print(len(a))"
   ]
  },
  {
   "cell_type": "code",
   "execution_count": 22,
   "id": "ae91f382-fe89-4d28-89ee-b46bcc06e42a",
   "metadata": {},
   "outputs": [
    {
     "name": "stdout",
     "output_type": "stream",
     "text": [
      "['A', 's', 'h', 'u', 't', 'o', 's', 'h']\n"
     ]
    }
   ],
   "source": [
    "a = \"Ashutosh\"\n",
    "b = []\n",
    "\n",
    "for i in a:\n",
    "  b.append(i)\n",
    "print(b)"
   ]
  },
  {
   "cell_type": "code",
   "execution_count": 9,
   "id": "8eed0ba9-f0c9-4e8f-8def-879744b608c2",
   "metadata": {},
   "outputs": [
    {
     "name": "stdout",
     "output_type": "stream",
     "text": [
      "4\n"
     ]
    }
   ],
   "source": [
    "a = \"My name is Ashutosh\"\n",
    "b = a.split()\n",
    "count = 0\n",
    "for i in b:\n",
    "  count = count+1\n",
    "print(count)\n"
   ]
  },
  {
   "cell_type": "code",
   "execution_count": 10,
   "id": "cf974d66-261c-4c0b-9de9-8eec5e27c4b3",
   "metadata": {},
   "outputs": [
    {
     "data": {
      "text/plain": [
       "False"
      ]
     },
     "execution_count": 10,
     "metadata": {},
     "output_type": "execute_result"
    }
   ],
   "source": [
    "a = '123455a'\n",
    "a.isdigit()\n",
    "\n"
   ]
  },
  {
   "cell_type": "code",
   "execution_count": 11,
   "id": "3cfd9d4f-1873-40f4-b7a9-fbfcfa1fc127",
   "metadata": {},
   "outputs": [
    {
     "data": {
      "text/plain": [
       "'ash'"
      ]
     },
     "execution_count": 11,
     "metadata": {},
     "output_type": "execute_result"
    }
   ],
   "source": [
    "def trunc(a,t):\n",
    "  return a[:t]\n",
    "trunc('ashutosh',3)"
   ]
  },
  {
   "cell_type": "code",
   "execution_count": 12,
   "id": "8ff7a09c-23b9-4deb-a32f-d7ca61d7f5bc",
   "metadata": {},
   "outputs": [
    {
     "data": {
      "text/plain": [
       "'ashutosh'"
      ]
     },
     "execution_count": 12,
     "metadata": {},
     "output_type": "execute_result"
    }
   ],
   "source": [
    "def fun(a,val):\n",
    "  return a.replace(val,\"\")\n",
    "fun('ashuto,,sh',\",\")"
   ]
  },
  {
   "cell_type": "code",
   "execution_count": 13,
   "id": "47e56a56-5d0b-4d71-879a-eff5e091059e",
   "metadata": {},
   "outputs": [
    {
     "name": "stdout",
     "output_type": "stream",
     "text": [
      "True\n"
     ]
    }
   ],
   "source": [
    "a = \"https://www.google.com/search?q=python\"\n",
    "if a.startswith(\"https\"):\n",
    "  print(\"True\")\n",
    "else:\n",
    "  print(\"Not\")\n"
   ]
  },
  {
   "cell_type": "code",
   "execution_count": 14,
   "id": "c4b5d0ed-d317-47dc-b6bc-98fc0fe8089f",
   "metadata": {},
   "outputs": [
    {
     "data": {
      "text/plain": [
       "'toshashu'"
      ]
     },
     "execution_count": 14,
     "metadata": {},
     "output_type": "execute_result"
    }
   ],
   "source": [
    "def rn(a,val):\n",
    "  return a[val:] + a[:val]\n",
    "rn('ashutosh',4)"
   ]
  },
  {
   "cell_type": "code",
   "execution_count": 15,
   "id": "ab8eb882-d3cc-4a7b-be67-b0a8b0d94aeb",
   "metadata": {},
   "outputs": [
    {
     "name": "stdout",
     "output_type": "stream",
     "text": [
      "{'sadka': 'adkd', 1: 2}\n"
     ]
    }
   ],
   "source": [
    "a = ['sadka','adkd']\n",
    "b = [1,2]\n",
    "\n",
    "c = dict([a,b])\n",
    "print(c)"
   ]
  },
  {
   "cell_type": "code",
   "execution_count": 16,
   "id": "a29d5a07-49f4-4635-b49b-8252f090beb3",
   "metadata": {},
   "outputs": [
    {
     "name": "stdout",
     "output_type": "stream",
     "text": [
      "{'My': 2, 'name': 6, 'is': 8, 'Ashutosh': 16}\n"
     ]
    }
   ],
   "source": [
    "a = 'My name is Ashutosh'\n",
    "b= a.split()\n",
    "d = []\n",
    "c = []\n",
    "\n",
    "count = 0\n",
    "for i in b:\n",
    "  d.append(i)\n",
    "  for j in i:\n",
    "    count = count+1\n",
    "  c.append(count)\n",
    "\n",
    "\n",
    "my_dict = {word: count for word, count in zip(d, c)}\n",
    "print(my_dict)"
   ]
  },
  {
   "cell_type": "code",
   "execution_count": 52,
   "id": "5e005632-e47b-46d8-b8d0-b5a51c4053f2",
   "metadata": {},
   "outputs": [
    {
     "name": "stdout",
     "output_type": "stream",
     "text": [
      "['My', 'name', 'is', 'iadiaudiasudiaudiauda', 'Ashutosh', 'ldad']\n",
      "Ashutosh\n"
     ]
    }
   ],
   "source": [
    "a = \"My name is iadiaudiasudiaudiauda Ashutosh ldad\"\n",
    "b = a.split()\n",
    "print(b)\n",
    "for i in range(0,len(b)):\n",
    "    for j in range(i+1,len(b)):\n",
    "        if(len(b[i])>len(b[j])):\n",
    "            b[i],b[j] = b[j],b[i]\n",
    "print(b[-2])"
   ]
  },
  {
   "cell_type": "code",
   "execution_count": 87,
   "id": "42eec573-116d-4df3-941b-ebc4854b8031",
   "metadata": {},
   "outputs": [
    {
     "name": "stdout",
     "output_type": "stream",
     "text": [
      "['s', 'a', 'h', 'd', 'u', 't', 's', 'h']\n",
      "['a', 'd', 'h', 'h', 's', 's', 't', 'u']\n"
     ]
    }
   ],
   "source": [
    "a = 'sahdutsh'\n",
    "c = []\n",
    "for i in a:\n",
    "    c.append(i)\n",
    "print(c)\n",
    "\n",
    "c.sort()\n",
    "print(c)"
   ]
  },
  {
   "cell_type": "code",
   "execution_count": 90,
   "id": "b02dbae5-6fd1-4e96-93ed-0b7d0a87d916",
   "metadata": {},
   "outputs": [
    {
     "name": "stdout",
     "output_type": "stream",
     "text": [
      "atsihwua"
     ]
    }
   ],
   "source": [
    "a = 'ashu'\n",
    "b = 'tiwa'\n",
    "for i,j in zip(a,b):\n",
    "    print(i+j,end = '')"
   ]
  },
  {
   "cell_type": "code",
   "execution_count": 91,
   "id": "2b8014cb-9642-4a32-bfc7-712cbbfb7609",
   "metadata": {},
   "outputs": [
    {
     "name": "stdout",
     "output_type": "stream",
     "text": [
      "My name is ashutosh tiwari\n"
     ]
    }
   ],
   "source": [
    "a = 'ashutosh'\n",
    "b = 'tiwari'\n",
    "\n",
    "print(\"My name is {} {}\".format(a,b))"
   ]
  },
  {
   "cell_type": "code",
   "execution_count": 92,
   "id": "5554cfa9-763a-4b11-90ce-2d5a50e7190a",
   "metadata": {},
   "outputs": [
    {
     "name": "stdout",
     "output_type": "stream",
     "text": [
      "A:0\n",
      "s:1\n",
      "h:2\n",
      "u:3\n",
      "t:4\n",
      "o:5\n",
      "s:1\n",
      "h:2\n"
     ]
    }
   ],
   "source": [
    "a = 'Ashutosh'\n",
    "for i in a:\n",
    "    print(f\"{i}:{a.index(i)}\")"
   ]
  },
  {
   "cell_type": "code",
   "execution_count": 100,
   "id": "3e4cd0b3-b635-4385-82d6-6b162ab7cef3",
   "metadata": {},
   "outputs": [
    {
     "name": "stdout",
     "output_type": "stream",
     "text": [
      "Rodhjdhjd\n"
     ]
    }
   ],
   "source": [
    "a = \"Roadhajdhajd\"\n",
    "val = 'a'\n",
    "\n",
    "for i in a:\n",
    "    if(i==val):\n",
    "        c = a.replace(i,'')\n",
    "print(c)      "
   ]
  },
  {
   "cell_type": "code",
   "execution_count": 106,
   "id": "1662250f-9050-4bdd-bd14-d54f0b2a8b80",
   "metadata": {},
   "outputs": [
    {
     "name": "stdout",
     "output_type": "stream",
     "text": [
      "<class 'str'> 123456\n"
     ]
    }
   ],
   "source": [
    "a = [1,2,3,4,5,6]\n",
    "b = ''\n",
    "for i in a:\n",
    "    b = b + str(i)\n",
    "print(type(b),b)"
   ]
  }
 ],
 "metadata": {
  "kernelspec": {
   "display_name": "Python 3 (ipykernel)",
   "language": "python",
   "name": "python3"
  },
  "language_info": {
   "codemirror_mode": {
    "name": "ipython",
    "version": 3
   },
   "file_extension": ".py",
   "mimetype": "text/x-python",
   "name": "python",
   "nbconvert_exporter": "python",
   "pygments_lexer": "ipython3",
   "version": "3.11.7"
  }
 },
 "nbformat": 4,
 "nbformat_minor": 5
}
